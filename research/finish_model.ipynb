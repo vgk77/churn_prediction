{
 "cells": [
  {
   "cell_type": "markdown",
   "metadata": {},
   "source": [
    "## Импортируем нужные для анализа данных библиотеки"
   ]
  },
  {
   "cell_type": "code",
   "execution_count": 30,
   "metadata": {},
   "outputs": [],
   "source": [
    "import pandas as pd\n",
    "import numpy as np\n",
    "from matplotlib import pyplot as plt\n",
    "import seaborn as sns"
   ]
  },
  {
   "cell_type": "code",
   "execution_count": 31,
   "metadata": {},
   "outputs": [
    {
     "data": {
      "text/plain": [
       "(7043, 21)"
      ]
     },
     "execution_count": 31,
     "metadata": {},
     "output_type": "execute_result"
    }
   ],
   "source": [
    "# Прочитаем датасет из csv файла и посмотрим на его размер\n",
    "dataset = pd.read_csv('dataset.csv')\n",
    "dataset.shape"
   ]
  },
  {
   "cell_type": "markdown",
   "metadata": {},
   "source": [
    "## Смотрим на данные глазами и поправляем их при необходимости"
   ]
  },
  {
   "cell_type": "markdown",
   "metadata": {},
   "source": [
    "Что понятно:\n",
    "1) Каждая строчка - клиент с какими-то признаками (20 столбцов)\n",
    "2) Целевая переменная - churn (ушел клиент или нет)"
   ]
  },
  {
   "cell_type": "code",
   "execution_count": 32,
   "metadata": {},
   "outputs": [
    {
     "data": {
      "text/html": [
       "<div>\n",
       "<style scoped>\n",
       "    .dataframe tbody tr th:only-of-type {\n",
       "        vertical-align: middle;\n",
       "    }\n",
       "\n",
       "    .dataframe tbody tr th {\n",
       "        vertical-align: top;\n",
       "    }\n",
       "\n",
       "    .dataframe thead th {\n",
       "        text-align: right;\n",
       "    }\n",
       "</style>\n",
       "<table border=\"1\" class=\"dataframe\">\n",
       "  <thead>\n",
       "    <tr style=\"text-align: right;\">\n",
       "      <th></th>\n",
       "      <th>customerID</th>\n",
       "      <th>gender</th>\n",
       "      <th>SeniorCitizen</th>\n",
       "      <th>Partner</th>\n",
       "      <th>Dependents</th>\n",
       "      <th>tenure</th>\n",
       "      <th>PhoneService</th>\n",
       "      <th>MultipleLines</th>\n",
       "      <th>InternetService</th>\n",
       "      <th>OnlineSecurity</th>\n",
       "      <th>...</th>\n",
       "      <th>DeviceProtection</th>\n",
       "      <th>TechSupport</th>\n",
       "      <th>StreamingTV</th>\n",
       "      <th>StreamingMovies</th>\n",
       "      <th>Contract</th>\n",
       "      <th>PaperlessBilling</th>\n",
       "      <th>PaymentMethod</th>\n",
       "      <th>MonthlyCharges</th>\n",
       "      <th>TotalCharges</th>\n",
       "      <th>Churn</th>\n",
       "    </tr>\n",
       "  </thead>\n",
       "  <tbody>\n",
       "    <tr>\n",
       "      <th>0</th>\n",
       "      <td>7590-VHVEG</td>\n",
       "      <td>Female</td>\n",
       "      <td>0</td>\n",
       "      <td>Yes</td>\n",
       "      <td>No</td>\n",
       "      <td>1</td>\n",
       "      <td>No</td>\n",
       "      <td>No phone service</td>\n",
       "      <td>DSL</td>\n",
       "      <td>No</td>\n",
       "      <td>...</td>\n",
       "      <td>No</td>\n",
       "      <td>No</td>\n",
       "      <td>No</td>\n",
       "      <td>No</td>\n",
       "      <td>Month-to-month</td>\n",
       "      <td>Yes</td>\n",
       "      <td>Electronic check</td>\n",
       "      <td>29.85</td>\n",
       "      <td>29.85</td>\n",
       "      <td>No</td>\n",
       "    </tr>\n",
       "    <tr>\n",
       "      <th>1</th>\n",
       "      <td>5575-GNVDE</td>\n",
       "      <td>Male</td>\n",
       "      <td>0</td>\n",
       "      <td>No</td>\n",
       "      <td>No</td>\n",
       "      <td>34</td>\n",
       "      <td>Yes</td>\n",
       "      <td>No</td>\n",
       "      <td>DSL</td>\n",
       "      <td>Yes</td>\n",
       "      <td>...</td>\n",
       "      <td>Yes</td>\n",
       "      <td>No</td>\n",
       "      <td>No</td>\n",
       "      <td>No</td>\n",
       "      <td>One year</td>\n",
       "      <td>No</td>\n",
       "      <td>Mailed check</td>\n",
       "      <td>56.95</td>\n",
       "      <td>1889.5</td>\n",
       "      <td>No</td>\n",
       "    </tr>\n",
       "    <tr>\n",
       "      <th>2</th>\n",
       "      <td>3668-QPYBK</td>\n",
       "      <td>Male</td>\n",
       "      <td>0</td>\n",
       "      <td>No</td>\n",
       "      <td>No</td>\n",
       "      <td>2</td>\n",
       "      <td>Yes</td>\n",
       "      <td>No</td>\n",
       "      <td>DSL</td>\n",
       "      <td>Yes</td>\n",
       "      <td>...</td>\n",
       "      <td>No</td>\n",
       "      <td>No</td>\n",
       "      <td>No</td>\n",
       "      <td>No</td>\n",
       "      <td>Month-to-month</td>\n",
       "      <td>Yes</td>\n",
       "      <td>Mailed check</td>\n",
       "      <td>53.85</td>\n",
       "      <td>108.15</td>\n",
       "      <td>Yes</td>\n",
       "    </tr>\n",
       "    <tr>\n",
       "      <th>3</th>\n",
       "      <td>7795-CFOCW</td>\n",
       "      <td>Male</td>\n",
       "      <td>0</td>\n",
       "      <td>No</td>\n",
       "      <td>No</td>\n",
       "      <td>45</td>\n",
       "      <td>No</td>\n",
       "      <td>No phone service</td>\n",
       "      <td>DSL</td>\n",
       "      <td>Yes</td>\n",
       "      <td>...</td>\n",
       "      <td>Yes</td>\n",
       "      <td>Yes</td>\n",
       "      <td>No</td>\n",
       "      <td>No</td>\n",
       "      <td>One year</td>\n",
       "      <td>No</td>\n",
       "      <td>Bank transfer (automatic)</td>\n",
       "      <td>42.30</td>\n",
       "      <td>1840.75</td>\n",
       "      <td>No</td>\n",
       "    </tr>\n",
       "    <tr>\n",
       "      <th>4</th>\n",
       "      <td>9237-HQITU</td>\n",
       "      <td>Female</td>\n",
       "      <td>0</td>\n",
       "      <td>No</td>\n",
       "      <td>No</td>\n",
       "      <td>2</td>\n",
       "      <td>Yes</td>\n",
       "      <td>No</td>\n",
       "      <td>Fiber optic</td>\n",
       "      <td>No</td>\n",
       "      <td>...</td>\n",
       "      <td>No</td>\n",
       "      <td>No</td>\n",
       "      <td>No</td>\n",
       "      <td>No</td>\n",
       "      <td>Month-to-month</td>\n",
       "      <td>Yes</td>\n",
       "      <td>Electronic check</td>\n",
       "      <td>70.70</td>\n",
       "      <td>151.65</td>\n",
       "      <td>Yes</td>\n",
       "    </tr>\n",
       "  </tbody>\n",
       "</table>\n",
       "<p>5 rows × 21 columns</p>\n",
       "</div>"
      ],
      "text/plain": [
       "   customerID  gender  SeniorCitizen Partner Dependents  tenure PhoneService  \\\n",
       "0  7590-VHVEG  Female              0     Yes         No       1           No   \n",
       "1  5575-GNVDE    Male              0      No         No      34          Yes   \n",
       "2  3668-QPYBK    Male              0      No         No       2          Yes   \n",
       "3  7795-CFOCW    Male              0      No         No      45           No   \n",
       "4  9237-HQITU  Female              0      No         No       2          Yes   \n",
       "\n",
       "      MultipleLines InternetService OnlineSecurity  ...  DeviceProtection  \\\n",
       "0  No phone service             DSL             No  ...                No   \n",
       "1                No             DSL            Yes  ...               Yes   \n",
       "2                No             DSL            Yes  ...                No   \n",
       "3  No phone service             DSL            Yes  ...               Yes   \n",
       "4                No     Fiber optic             No  ...                No   \n",
       "\n",
       "  TechSupport StreamingTV StreamingMovies        Contract PaperlessBilling  \\\n",
       "0          No          No              No  Month-to-month              Yes   \n",
       "1          No          No              No        One year               No   \n",
       "2          No          No              No  Month-to-month              Yes   \n",
       "3         Yes          No              No        One year               No   \n",
       "4          No          No              No  Month-to-month              Yes   \n",
       "\n",
       "               PaymentMethod MonthlyCharges  TotalCharges Churn  \n",
       "0           Electronic check          29.85         29.85    No  \n",
       "1               Mailed check          56.95        1889.5    No  \n",
       "2               Mailed check          53.85        108.15   Yes  \n",
       "3  Bank transfer (automatic)          42.30       1840.75    No  \n",
       "4           Electronic check          70.70        151.65   Yes  \n",
       "\n",
       "[5 rows x 21 columns]"
      ]
     },
     "execution_count": 32,
     "metadata": {},
     "output_type": "execute_result"
    }
   ],
   "source": [
    "dataset.head()"
   ]
  },
  {
   "cell_type": "code",
   "execution_count": 33,
   "metadata": {},
   "outputs": [],
   "source": [
    "# Заменим названия столбцов для совместимости с базой данных\n",
    "dataset.rename(columns = {'SeniorCitizen': 'senior_citizen', 'Partner': 'partner', 'Dependents': 'dependents', 'PhoneService': 'phone_service','MultipleLines': 'multiplelines','InternetService': 'internet_service','OnlineSecurity': 'online_security','OnlineBackup': 'online_backup', 'DeviceProtection': 'device_protection','TechSupport': 'techsupport','StreamingTV': 'streaming_tv','StreamingMovies': 'streaming_movies','Contract': 'contract','PaperlessBilling': 'paperless', 'PaymentMethod': 'payment_method', 'MonthlyCharges': 'monthly_charges', 'TotalCharges': 'total_charges', 'Churn': 'churn', 'customerID': 'customer_id'}, inplace=True)"
   ]
  },
  {
   "cell_type": "code",
   "execution_count": 34,
   "metadata": {},
   "outputs": [],
   "source": [
    "#Нужно заменить пустые строки в столбце TotalCharges на nan\n",
    "dataset['total_charges'] = dataset[\"total_charges\"].replace(\" \",np.nan)\n",
    "#Дропаем строки с пропущенными значениями TotalCharges (их всего несколько штук - нестрашно)\n",
    "dataset = dataset[dataset[\"total_charges\"].notnull()]\n",
    "dataset = dataset.reset_index()[dataset.columns]\n",
    "\n",
    "#переведем вещественные и целые числа к нужному типу\n",
    "dataset[\"total_charges\"] = dataset[\"total_charges\"].astype(float)\n",
    "dataset[\"monthly_charges\"] = dataset[\"monthly_charges\"].astype(float)\n",
    "dataset[\"tenure\"] = dataset[\"tenure\"].astype(int)\n",
    "\n",
    "#а здесь наоборот переводим в булеву переменную (да/нет)\n",
    "dataset[\"senior_citizen\"] = dataset[\"senior_citizen\"].replace({1:True,0:False})\n",
    "dataset[\"partner\"] = dataset[\"partner\"].replace({'Yes':True,'No':False})\n",
    "dataset[\"dependents\"] = dataset[\"dependents\"].replace({'Yes':True,'No':False})\n",
    "dataset[\"phone_service\"] = dataset[\"phone_service\"].replace({'Yes':True,'No':False})\n",
    "dataset[\"paperless\"] = dataset[\"paperless\"].replace({'Yes':True,'No':False})\n",
    "dataset[\"churn\"] = dataset[\"churn\"].replace({'Yes':True,'No':False})\n",
    "\n",
    "#заменяем значения на аналогичные в базе данных\n",
    "dataset[\"online_security\"] = dataset[\"online_security\"].replace({'No internet service': 'NO_INTERNET'})\n",
    "dataset[\"device_protection\"] = dataset[\"device_protection\"].replace({'No internet service': 'NO_INTERNET'})\n",
    "dataset[\"online_backup\"] = dataset[\"online_backup\"].replace({'No internet service': 'NO_INTERNET'})\n",
    "dataset[\"streaming_movies\"] = dataset[\"streaming_movies\"].replace({'No internet service': 'NO_INTERNET'})\n",
    "dataset[\"streaming_tv\"] = dataset[\"streaming_tv\"].replace({'No internet service': 'NO_INTERNET'})\n",
    "dataset[\"multiplelines\"] = dataset[\"multiplelines\"].replace({'No phone service': 'NO_PHONE'})\n",
    "dataset[\"techsupport\"] = dataset[\"techsupport\"].replace({'No internet service': 'NO_INTERNET'})\n",
    "dataset[\"payment_method\"] = dataset[\"payment_method\"].replace({'Bank transfer (automatic)': 'Bank transfer', 'Credit card (automatic)': 'Credit card' })"
   ]
  },
  {
   "cell_type": "code",
   "execution_count": 35,
   "metadata": {},
   "outputs": [
    {
     "name": "stdout",
     "output_type": "stream",
     "text": [
      "['partner', 'senior_citizen', 'paperless', 'online_security', 'device_protection', 'gender', 'internet_service', 'phone_service', 'payment_method', 'contract', 'dependents', 'online_backup', 'streaming_tv', 'multiplelines', 'streaming_movies', 'techsupport']\n"
     ]
    }
   ],
   "source": [
    "#разделяем колонки на два типа (категориальные и вещественные). Зависимую переменную преобразуем потом\n",
    "numeric_cols = [\"tenure\", \"monthly_charges\", \"total_charges\"]\n",
    "categorical_cols = list(set(dataset.columns.values.tolist()) - set(numeric_cols) - set([\"churn\",\"customer_id\"]))\n",
    "print(categorical_cols)"
   ]
  },
  {
   "cell_type": "code",
   "execution_count": 36,
   "metadata": {},
   "outputs": [
    {
     "data": {
      "image/png": "[encoded data removed]",
      "text/plain": [
       "<Figure size 432x288 with 1 Axes>"
      ]
     },
     "metadata": {
      "needs_background": "light"
     },
     "output_type": "display_data"
    },
    {
     "data": {
      "image/png": "[encoded data removed]",
      "text/plain": [
       "<Figure size 432x288 with 1 Axes>"
      ]
     },
     "metadata": {
      "needs_background": "light"
     },
     "output_type": "display_data"
    },
    {
     "data": {
      "image/png": "[encoded data removed]",
      "text/plain": [
       "<Figure size 432x288 with 1 Axes>"
      ]
     },
     "metadata": {
      "needs_background": "light"
     },
     "output_type": "display_data"
    },
    {
     "data": {
      "image/png": "[encoded data removed]",
      "text/plain": [
       "<Figure size 432x288 with 1 Axes>"
      ]
     },
     "metadata": {
      "needs_background": "light"
     },
     "output_type": "display_data"
    },
    {
     "data": {
      "image/png": "[encoded data removed]",
      "text/plain": [
       "<Figure size 432x288 with 1 Axes>"
      ]
     },
     "metadata": {
      "needs_background": "light"
     },
     "output_type": "display_data"
    },
    {
     "data": {
      "image/png": "[encoded data removed]",
      "text/plain": [
       "<Figure size 432x288 with 1 Axes>"
      ]
     },
     "metadata": {
      "needs_background": "light"
     },
     "output_type": "display_data"
    },
    {
     "data": {
      "image/png": "[encoded data removed]",
      "text/plain": [
       "<Figure size 432x288 with 1 Axes>"
      ]
     },
     "metadata": {
      "needs_background": "light"
     },
     "output_type": "display_data"
    },
    {
     "data": {
      "image/png": "[encoded data removed]",
      "text/plain": [
       "<Figure size 432x288 with 1 Axes>"
      ]
     },
     "metadata": {
      "needs_background": "light"
     },
     "output_type": "display_data"
    },
    {
     "data": {
      "image/png": "[encoded data removed]",
      "text/plain": [
       "<Figure size 432x288 with 1 Axes>"
      ]
     },
     "metadata": {
      "needs_background": "light"
     },
     "output_type": "display_data"
    },
    {
     "data": {
      "image/png": "[encoded data removed]",
      "text/plain": [
       "<Figure size 432x288 with 1 Axes>"
      ]
     },
     "metadata": {
      "needs_background": "light"
     },
     "output_type": "display_data"
    },
    {
     "data": {
      "image/png": "[encoded data removed]",
      "text/plain": [
       "<Figure size 432x288 with 1 Axes>"
      ]
     },
     "metadata": {
      "needs_background": "light"
     },
     "output_type": "display_data"
    },
    {
     "data": {
      "image/png": "[encoded data removed]",
      "text/plain": [
       "<Figure size 432x288 with 1 Axes>"
      ]
     },
     "metadata": {
      "needs_background": "light"
     },
     "output_type": "display_data"
    },
    {
     "data": {
      "image/png": "[encoded data removed]",
      "text/plain": [
       "<Figure size 432x288 with 1 Axes>"
      ]
     },
     "metadata": {
      "needs_background": "light"
     },
     "output_type": "display_data"
    },
    {
     "data": {
      "image/png": "[encoded data removed]",
      "text/plain": [
       "<Figure size 432x288 with 1 Axes>"
      ]
     },
     "metadata": {
      "needs_background": "light"
     },
     "output_type": "display_data"
    },
    {
     "data": {
      "image/png": "[encoded data removed]",
      "text/plain": [
       "<Figure size 432x288 with 1 Axes>"
      ]
     },
     "metadata": {
      "needs_background": "light"
     },
     "output_type": "display_data"
    },
    {
     "data": {
      "image/png": "[encoded data removed]",
      "text/plain": [
       "<Figure size 432x288 with 1 Axes>"
      ]
     },
     "metadata": {
      "needs_background": "light"
     },
     "output_type": "display_data"
    }
   ],
   "source": [
    "# красиво кучу графиков нарисовать не смог, сорри ¯\\_(ツ)_/¯\n",
    "# Графики подсказывают распределение отточников по признакам\n",
    "# Например сразу видно, что среди тех, у кого нет Online Backup процент отточников выше\n",
    "for var in categorical_cols:\n",
    "    ax = sns.countplot(x=var,hue=\"churn\", data=dataset)\n",
    "    i =+1\n",
    "    plt.show()"
   ]
  },
  {
   "cell_type": "code",
   "execution_count": 37,
   "metadata": {},
   "outputs": [],
   "source": [
    "# Разделим датасет на целевую переменную и зависимые\n",
    "X = dataset.drop(columns=['churn'])\n",
    "Y = dataset['churn']\n",
    "\n",
    "# X дополнительно разделим на категориальные и вещественные переменные\n",
    "X_number = X[numeric_cols]\n",
    "X_categ = X[categorical_cols]\n",
    "#на всякий случай все категориальные приведем к строке (вроде они и так строки)\n",
    "X_categ = X_categ.astype(str)"
   ]
  },
  {
   "cell_type": "markdown",
   "metadata": {},
   "source": [
    "# Энкодер категориальных переменных"
   ]
  },
  {
   "cell_type": "code",
   "execution_count": 38,
   "metadata": {},
   "outputs": [],
   "source": [
    "from sklearn.feature_extraction import DictVectorizer as DV\n",
    "\n",
    "encoder = DV(sparse = False)\n",
    "# Преобразуем категориальные переменные в множество бинарных признаков с помощью one hot encoder\n",
    "encoder.fit(X_categ.T.to_dict().values())\n",
    "X_categ_encoded = encoder.transform(X_categ.T.to_dict().values())\n",
    "# Преобразуем зависимую переменную в множество бинарных признаков с помощью one hot encoder\n",
    "Y_encoded = np.asarray(Y)"
   ]
  },
  {
   "cell_type": "markdown",
   "metadata": {},
   "source": [
    "## Скейлер вещественных переменных"
   ]
  },
  {
   "cell_type": "code",
   "execution_count": 39,
   "metadata": {},
   "outputs": [
    {
     "name": "stderr",
     "output_type": "stream",
     "text": [
      "/anaconda3/lib/python3.7/site-packages/sklearn/preprocessing/data.py:625: DataConversionWarning: Data with input dtype int64, float64 were all converted to float64 by StandardScaler.\n",
      "  return self.partial_fit(X, y)\n",
      "/anaconda3/lib/python3.7/site-packages/ipykernel_launcher.py:6: DataConversionWarning: Data with input dtype int64, float64 were all converted to float64 by StandardScaler.\n",
      "  \n"
     ]
    }
   ],
   "source": [
    "from sklearn.preprocessing import StandardScaler\n",
    "\n",
    "#нормализуем вещественные признаки (приводим к виду от 0 до 1)\n",
    "scaler = StandardScaler()\n",
    "scaler.fit(X_number)\n",
    "X_number_scaled = scaler.transform(X_number)"
   ]
  },
  {
   "cell_type": "code",
   "execution_count": 40,
   "metadata": {},
   "outputs": [],
   "source": [
    "#теперь можно сконкатенировать по горизонтали категориальные и вещественные фичи и получить окончательный датасет\n",
    "X_finish = np.hstack ((X_number_scaled, X_categ_encoded))"
   ]
  },
  {
   "cell_type": "code",
   "execution_count": 41,
   "metadata": {},
   "outputs": [],
   "source": [
    "from sklearn.model_selection import train_test_split\n",
    "from sklearn.linear_model import LogisticRegression\n",
    "from sklearn.model_selection import GridSearchCV\n",
    "from sklearn.metrics import roc_auc_score, roc_curve\n",
    "\n",
    "# Функция для обучения модели\n",
    "# Принимает переменные, параметры модели, вовзращает лучшую найденную по параметрам модель\n",
    "def learning_model(X, Y, clf, param_grid, scoring):\n",
    "    # Разделим выборки на test, train\n",
    "    X_train, X_test, y_train, y_test = train_test_split(X, Y, test_size=0.2, random_state=42)\n",
    "    # Зададим classifier и сетку параметров\n",
    "    gridCV = GridSearchCV(clf, param_grid, scoring = scoring, cv = 3)\n",
    "    # Обучим по сетке\n",
    "    gridCV.fit(X_train, y_train)\n",
    "    # Получим предсказания алгоритма\n",
    "    predictions = gridCV.predict_proba(X_test)[:,1]\n",
    "    # Получим значения fpr и tpr для roc_curve\n",
    "    fpr,tpr,thresholds = roc_curve(y_test,predictions)\n",
    "    \n",
    "    #построим график ROC кривой\n",
    "    fig, ax = plt.subplots()\n",
    "    ax.plot(fpr, tpr)\n",
    "    ax.set(xlabel='FPR', ylabel='TPR', title='ROC-CURVE')\n",
    "    ax.grid()\n",
    "    plt.show()\n",
    "\n",
    "    print (roc_auc_score(y_test, predictions))\n",
    "    print (gridCV.best_score_)\n",
    "    return gridCV.best_estimator_"
   ]
  },
  {
   "cell_type": "markdown",
   "metadata": {},
   "source": [
    "## Для начала попробую построить логистическую регрессию"
   ]
  },
  {
   "cell_type": "code",
   "execution_count": 42,
   "metadata": {},
   "outputs": [
    {
     "data": {
      "image/png": "[encoded data removed]",
      "text/plain": [
       "<Figure size 432x288 with 1 Axes>"
      ]
     },
     "metadata": {
      "needs_background": "light"
     },
     "output_type": "display_data"
    },
    {
     "name": "stdout",
     "output_type": "stream",
     "text": [
      "0.8317035165733987\n",
      "0.8480693749676247\n"
     ]
    }
   ],
   "source": [
    "# Зададим сетку параметров для модели\n",
    "param_grid_logreg = {'C': [0.01, 0.05, 0.1, 0.5, 1, 5, 10, 15, 20], 'class_weight':['balanced', None],'penalty':['l2'],  }\n",
    "clf_log = LogisticRegression(solver='liblinear')\n",
    "# Обучим модель на данных и классификатора выше\n",
    "log_reg = learning_model(X_finish, Y_encoded, clf_log, param_grid_logreg, scoring = 'roc_auc')"
   ]
  },
  {
   "cell_type": "markdown",
   "metadata": {},
   "source": [
    "В качестве метрики будем использовать площадь под AUC кривой (чтобы можно было сравнить разные алгоритмы между собой)"
   ]
  },
  {
   "cell_type": "markdown",
   "metadata": {},
   "source": [
    "# Попробуем запустить случайный лес и градиентный бустинг"
   ]
  },
  {
   "cell_type": "code",
   "execution_count": 43,
   "metadata": {},
   "outputs": [
    {
     "data": {
      "image/png": "[encoded data removed]",
      "text/plain": [
       "<Figure size 432x288 with 1 Axes>"
      ]
     },
     "metadata": {
      "needs_background": "light"
     },
     "output_type": "display_data"
    },
    {
     "name": "stdout",
     "output_type": "stream",
     "text": [
      "0.8305956898292187\n",
      "0.8461053298370247\n"
     ]
    }
   ],
   "source": [
    "from sklearn import ensemble \n",
    "# Зададим classifier и сетку параметров\n",
    "param_grid_rf = {'n_estimators': [1] + list(range(10, 55, 5)), 'min_samples_split': range(2, 25, 2)}\n",
    "estimator_rf = ensemble.RandomForestClassifier(random_state=0)\n",
    "# Обучим модель на данных и классификатора выше\n",
    "rf_model = learning_model(X_finish, Y_encoded, estimator_rf, param_grid_rf, scoring = 'roc_auc')"
   ]
  },
  {
   "cell_type": "code",
   "execution_count": 44,
   "metadata": {},
   "outputs": [
    {
     "data": {
      "image/png": "[encoded data removed]",
      "text/plain": [
       "<Figure size 432x288 with 1 Axes>"
      ]
     },
     "metadata": {
      "needs_background": "light"
     },
     "output_type": "display_data"
    },
    {
     "name": "stdout",
     "output_type": "stream",
     "text": [
      "0.8213939980638916\n",
      "0.8357869748857374\n"
     ]
    }
   ],
   "source": [
    "import xgboost as xgb\n",
    "\n",
    "# Подбор параметров для градиентого бустинга - максимальная глубина дерева, количество деревьев, шаг градиента\n",
    "param_grid_boosting = {\"max_depth\": [10,30,50],\n",
    "              \"min_child_weight\" : [1,3,6],\n",
    "              \"n_estimators\": [200],\n",
    "              \"learning_rate\": [0.05, 0.1, 0.16],}\n",
    "estimator_boosting = xgb.XGBClassifier()\n",
    "\n",
    "# Обучим модель на данных и классификатора выше\n",
    "boost_model = learning_model(X_finish, Y_encoded, estimator_boosting, param_grid_boosting, scoring = 'roc_auc')"
   ]
  },
  {
   "cell_type": "markdown",
   "metadata": {},
   "source": [
    "## Экспортируем лучшую модель и энкодеры"
   ]
  },
  {
   "cell_type": "code",
   "execution_count": 45,
   "metadata": {},
   "outputs": [
    {
     "data": {
      "text/plain": [
       "['scaler.joblib']"
      ]
     },
     "execution_count": 45,
     "metadata": {},
     "output_type": "execute_result"
    }
   ],
   "source": [
    "import pickle\n",
    "from joblib import dump, load\n",
    "\n",
    "best_ensemble = log_reg\n",
    "dump(best_ensemble, 'model.joblib')\n",
    "dump(encoder, 'encoder.joblib') \n",
    "dump(scaler, 'scaler.joblib') "
   ]
  },
  {
   "cell_type": "markdown",
   "metadata": {},
   "source": [
    "## Предскажем для всех клиентов из датасета вероятность оттока и сохраним столбец в датасет"
   ]
  },
  {
   "cell_type": "code",
   "execution_count": 47,
   "metadata": {},
   "outputs": [],
   "source": [
    "dataset['probability'] = best_ensemble.predict_proba(X_finish)[:, 0]"
   ]
  },
  {
   "cell_type": "code",
   "execution_count": 48,
   "metadata": {},
   "outputs": [
    {
     "data": {
      "text/html": [
       "<div>\n",
       "<style scoped>\n",
       "    .dataframe tbody tr th:only-of-type {\n",
       "        vertical-align: middle;\n",
       "    }\n",
       "\n",
       "    .dataframe tbody tr th {\n",
       "        vertical-align: top;\n",
       "    }\n",
       "\n",
       "    .dataframe thead th {\n",
       "        text-align: right;\n",
       "    }\n",
       "</style>\n",
       "<table border=\"1\" class=\"dataframe\">\n",
       "  <thead>\n",
       "    <tr style=\"text-align: right;\">\n",
       "      <th></th>\n",
       "      <th>customer_id</th>\n",
       "      <th>gender</th>\n",
       "      <th>senior_citizen</th>\n",
       "      <th>partner</th>\n",
       "      <th>dependents</th>\n",
       "      <th>tenure</th>\n",
       "      <th>phone_service</th>\n",
       "      <th>multiplelines</th>\n",
       "      <th>internet_service</th>\n",
       "      <th>online_security</th>\n",
       "      <th>...</th>\n",
       "      <th>techsupport</th>\n",
       "      <th>streaming_tv</th>\n",
       "      <th>streaming_movies</th>\n",
       "      <th>contract</th>\n",
       "      <th>paperless</th>\n",
       "      <th>payment_method</th>\n",
       "      <th>monthly_charges</th>\n",
       "      <th>total_charges</th>\n",
       "      <th>churn</th>\n",
       "      <th>probability</th>\n",
       "    </tr>\n",
       "  </thead>\n",
       "  <tbody>\n",
       "    <tr>\n",
       "      <th>0</th>\n",
       "      <td>7590-VHVEG</td>\n",
       "      <td>Female</td>\n",
       "      <td>False</td>\n",
       "      <td>True</td>\n",
       "      <td>False</td>\n",
       "      <td>1</td>\n",
       "      <td>False</td>\n",
       "      <td>NO_PHONE</td>\n",
       "      <td>DSL</td>\n",
       "      <td>No</td>\n",
       "      <td>...</td>\n",
       "      <td>No</td>\n",
       "      <td>No</td>\n",
       "      <td>No</td>\n",
       "      <td>Month-to-month</td>\n",
       "      <td>True</td>\n",
       "      <td>Electronic check</td>\n",
       "      <td>29.85</td>\n",
       "      <td>29.85</td>\n",
       "      <td>False</td>\n",
       "      <td>0.353234</td>\n",
       "    </tr>\n",
       "    <tr>\n",
       "      <th>1</th>\n",
       "      <td>5575-GNVDE</td>\n",
       "      <td>Male</td>\n",
       "      <td>False</td>\n",
       "      <td>False</td>\n",
       "      <td>False</td>\n",
       "      <td>34</td>\n",
       "      <td>True</td>\n",
       "      <td>No</td>\n",
       "      <td>DSL</td>\n",
       "      <td>Yes</td>\n",
       "      <td>...</td>\n",
       "      <td>No</td>\n",
       "      <td>No</td>\n",
       "      <td>No</td>\n",
       "      <td>One year</td>\n",
       "      <td>False</td>\n",
       "      <td>Mailed check</td>\n",
       "      <td>56.95</td>\n",
       "      <td>1889.50</td>\n",
       "      <td>False</td>\n",
       "      <td>0.965901</td>\n",
       "    </tr>\n",
       "    <tr>\n",
       "      <th>2</th>\n",
       "      <td>3668-QPYBK</td>\n",
       "      <td>Male</td>\n",
       "      <td>False</td>\n",
       "      <td>False</td>\n",
       "      <td>False</td>\n",
       "      <td>2</td>\n",
       "      <td>True</td>\n",
       "      <td>No</td>\n",
       "      <td>DSL</td>\n",
       "      <td>Yes</td>\n",
       "      <td>...</td>\n",
       "      <td>No</td>\n",
       "      <td>No</td>\n",
       "      <td>No</td>\n",
       "      <td>Month-to-month</td>\n",
       "      <td>True</td>\n",
       "      <td>Mailed check</td>\n",
       "      <td>53.85</td>\n",
       "      <td>108.15</td>\n",
       "      <td>True</td>\n",
       "      <td>0.706219</td>\n",
       "    </tr>\n",
       "    <tr>\n",
       "      <th>3</th>\n",
       "      <td>7795-CFOCW</td>\n",
       "      <td>Male</td>\n",
       "      <td>False</td>\n",
       "      <td>False</td>\n",
       "      <td>False</td>\n",
       "      <td>45</td>\n",
       "      <td>False</td>\n",
       "      <td>NO_PHONE</td>\n",
       "      <td>DSL</td>\n",
       "      <td>Yes</td>\n",
       "      <td>...</td>\n",
       "      <td>Yes</td>\n",
       "      <td>No</td>\n",
       "      <td>No</td>\n",
       "      <td>One year</td>\n",
       "      <td>False</td>\n",
       "      <td>Bank transfer</td>\n",
       "      <td>42.30</td>\n",
       "      <td>1840.75</td>\n",
       "      <td>False</td>\n",
       "      <td>0.977481</td>\n",
       "    </tr>\n",
       "    <tr>\n",
       "      <th>4</th>\n",
       "      <td>9237-HQITU</td>\n",
       "      <td>Female</td>\n",
       "      <td>False</td>\n",
       "      <td>False</td>\n",
       "      <td>False</td>\n",
       "      <td>2</td>\n",
       "      <td>True</td>\n",
       "      <td>No</td>\n",
       "      <td>Fiber optic</td>\n",
       "      <td>No</td>\n",
       "      <td>...</td>\n",
       "      <td>No</td>\n",
       "      <td>No</td>\n",
       "      <td>No</td>\n",
       "      <td>Month-to-month</td>\n",
       "      <td>True</td>\n",
       "      <td>Electronic check</td>\n",
       "      <td>70.70</td>\n",
       "      <td>151.65</td>\n",
       "      <td>True</td>\n",
       "      <td>0.318714</td>\n",
       "    </tr>\n",
       "  </tbody>\n",
       "</table>\n",
       "<p>5 rows × 22 columns</p>\n",
       "</div>"
      ],
      "text/plain": [
       "  customer_id  gender  senior_citizen  partner  dependents  tenure  \\\n",
       "0  7590-VHVEG  Female           False     True       False       1   \n",
       "1  5575-GNVDE    Male           False    False       False      34   \n",
       "2  3668-QPYBK    Male           False    False       False       2   \n",
       "3  7795-CFOCW    Male           False    False       False      45   \n",
       "4  9237-HQITU  Female           False    False       False       2   \n",
       "\n",
       "   phone_service multiplelines internet_service online_security     ...       \\\n",
       "0          False      NO_PHONE              DSL              No     ...        \n",
       "1           True            No              DSL             Yes     ...        \n",
       "2           True            No              DSL             Yes     ...        \n",
       "3          False      NO_PHONE              DSL             Yes     ...        \n",
       "4           True            No      Fiber optic              No     ...        \n",
       "\n",
       "  techsupport streaming_tv streaming_movies        contract paperless  \\\n",
       "0          No           No               No  Month-to-month      True   \n",
       "1          No           No               No        One year     False   \n",
       "2          No           No               No  Month-to-month      True   \n",
       "3         Yes           No               No        One year     False   \n",
       "4          No           No               No  Month-to-month      True   \n",
       "\n",
       "     payment_method  monthly_charges total_charges  churn  probability  \n",
       "0  Electronic check            29.85         29.85  False     0.353234  \n",
       "1      Mailed check            56.95       1889.50  False     0.965901  \n",
       "2      Mailed check            53.85        108.15   True     0.706219  \n",
       "3     Bank transfer            42.30       1840.75  False     0.977481  \n",
       "4  Electronic check            70.70        151.65   True     0.318714  \n",
       "\n",
       "[5 rows x 22 columns]"
      ]
     },
     "execution_count": 48,
     "metadata": {},
     "output_type": "execute_result"
    }
   ],
   "source": [
    "dataset.head()"
   ]
  },
  {
   "cell_type": "markdown",
   "metadata": {},
   "source": [
    "## Предскажем для тестового JSON"
   ]
  },
  {
   "cell_type": "code",
   "execution_count": 2,
   "metadata": {},
   "outputs": [],
   "source": [
    "import pandas as pd\n",
    "dataset_new = pd.read_json('data_test_predict.json')"
   ]
  },
  {
   "cell_type": "code",
   "execution_count": 3,
   "metadata": {},
   "outputs": [
    {
     "data": {
      "text/html": [
       "<div>\n",
       "<style scoped>\n",
       "    .dataframe tbody tr th:only-of-type {\n",
       "        vertical-align: middle;\n",
       "    }\n",
       "\n",
       "    .dataframe tbody tr th {\n",
       "        vertical-align: top;\n",
       "    }\n",
       "\n",
       "    .dataframe thead th {\n",
       "        text-align: right;\n",
       "    }\n",
       "</style>\n",
       "<table border=\"1\" class=\"dataframe\">\n",
       "  <thead>\n",
       "    <tr style=\"text-align: right;\">\n",
       "      <th></th>\n",
       "      <th>contract</th>\n",
       "      <th>customer_id</th>\n",
       "      <th>dependents</th>\n",
       "      <th>device_protection</th>\n",
       "      <th>gender</th>\n",
       "      <th>internet_service</th>\n",
       "      <th>monthly_charges</th>\n",
       "      <th>multiplelines</th>\n",
       "      <th>online_backup</th>\n",
       "      <th>online_security</th>\n",
       "      <th>paperless</th>\n",
       "      <th>partner</th>\n",
       "      <th>payment_method</th>\n",
       "      <th>phone_service</th>\n",
       "      <th>senior_citizen</th>\n",
       "      <th>streaming_movies</th>\n",
       "      <th>streaming_tv</th>\n",
       "      <th>techsupport</th>\n",
       "      <th>tenure</th>\n",
       "      <th>total_charges</th>\n",
       "    </tr>\n",
       "  </thead>\n",
       "  <tbody>\n",
       "    <tr>\n",
       "      <th>0</th>\n",
       "      <td>Month-to-month</td>\n",
       "      <td>qwefasd</td>\n",
       "      <td>False</td>\n",
       "      <td>NO_INTERNET</td>\n",
       "      <td>Male</td>\n",
       "      <td>Fiber optic</td>\n",
       "      <td>23.56</td>\n",
       "      <td>NO_PHONE</td>\n",
       "      <td>NO_INTERNET</td>\n",
       "      <td>NO_INTERNET</td>\n",
       "      <td>False</td>\n",
       "      <td>False</td>\n",
       "      <td>Electronic check</td>\n",
       "      <td>False</td>\n",
       "      <td>False</td>\n",
       "      <td>NO_INTERNET</td>\n",
       "      <td>NO_INTERNET</td>\n",
       "      <td>NO_INTERNET</td>\n",
       "      <td>24</td>\n",
       "      <td>45.67</td>\n",
       "    </tr>\n",
       "  </tbody>\n",
       "</table>\n",
       "</div>"
      ],
      "text/plain": [
       "         contract customer_id  dependents device_protection gender  \\\n",
       "0  Month-to-month     qwefasd       False       NO_INTERNET   Male   \n",
       "\n",
       "  internet_service  monthly_charges multiplelines online_backup  \\\n",
       "0      Fiber optic            23.56      NO_PHONE   NO_INTERNET   \n",
       "\n",
       "  online_security  paperless  partner    payment_method  phone_service  \\\n",
       "0     NO_INTERNET      False    False  Electronic check          False   \n",
       "\n",
       "   senior_citizen streaming_movies streaming_tv  techsupport  tenure  \\\n",
       "0           False      NO_INTERNET  NO_INTERNET  NO_INTERNET      24   \n",
       "\n",
       "   total_charges  \n",
       "0          45.67  "
      ]
     },
     "execution_count": 3,
     "metadata": {},
     "output_type": "execute_result"
    }
   ],
   "source": [
    "dataset_new"
   ]
  },
  {
   "cell_type": "code",
   "execution_count": 9,
   "metadata": {},
   "outputs": [
    {
     "name": "stderr",
     "output_type": "stream",
     "text": [
      "/anaconda3/lib/python3.7/site-packages/ipykernel_launcher.py:18: DataConversionWarning: Data with input dtype int64, float64 were all converted to float64 by StandardScaler.\n"
     ]
    }
   ],
   "source": [
    "# разделяем колонки на два типа (категориальные и вещественные).\n",
    "from joblib import load\n",
    "import numpy as np\n",
    "numeric_cols = [\"tenure\", \"monthly_charges\", \"total_charges\"]\n",
    "categorical_cols = list(set(dataset_new.columns.values.tolist()) - set(numeric_cols) - set([\"churn\",\"customer_id\"]))\n",
    "\n",
    "# X дополнительно разделим на категориальные и вещественные переменные\n",
    "X_number = dataset_new[numeric_cols]\n",
    "X_categ = dataset_new[categorical_cols]\n",
    "\n",
    "encoder = load('encoder.joblib')\n",
    "# Преобразуем категориальные переменные к вещественному виду\n",
    "X_categ_encoded = encoder.transform(X_categ.T.to_dict().values())\n",
    "\n",
    "# нормализуем вещественные признаки\n",
    "#scaler = StandardScaler()\n",
    "scaler = load('scaler.joblib')\n",
    "X_number_scaled = scaler.transform(X_number)\n",
    "\n",
    "# и получим окончательный датасет\n",
    "X_finish = np.hstack((X_number_scaled, X_categ_encoded))"
   ]
  },
  {
   "cell_type": "code",
   "execution_count": 10,
   "metadata": {},
   "outputs": [
    {
     "data": {
      "text/plain": [
       "array([0.53133539])"
      ]
     },
     "execution_count": 10,
     "metadata": {},
     "output_type": "execute_result"
    }
   ],
   "source": [
    "our_model = load('model.joblib')\n",
    "# возвращаем только вероятности отвала\n",
    "our_model.predict_proba(X_finish)[:, 0]"
   ]
  },
  {
   "cell_type": "code",
   "execution_count": null,
   "metadata": {},
   "outputs": [],
   "source": []
  }
 ],
 "metadata": {
  "kernelspec": {
   "display_name": "Python 3",
   "language": "python",
   "name": "python3"
  },
  "language_info": {
   "codemirror_mode": {
    "name": "ipython",
    "version": 3
   },
   "file_extension": ".py",
   "mimetype": "text/x-python",
   "name": "python",
   "nbconvert_exporter": "python",
   "pygments_lexer": "ipython3",
   "version": "3.7.1"
  }
 },
 "nbformat": 4,
 "nbformat_minor": 2
}
